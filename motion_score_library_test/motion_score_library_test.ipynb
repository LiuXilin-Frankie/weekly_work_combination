{
 "cells": [
  {
   "cell_type": "markdown",
   "metadata": {},
   "source": [
    "Author：AbsoluteX\n",
    "+ E-mail：118020043@link.cuhk.edu.cn / l276660317@gmail.com\n",
    "+ start-date: 2022-04-13\n",
    "\n",
    "/----- 项目说明 -----/\n",
    "+ 用于测试中文打分库的表现，尽可能多地网罗library并打分。将打分打印出来用肉眼校验可靠性\n",
    "+ 所有的情绪打分位于0-1之间，0代表negative，1代表positive\n",
    "+ ipynb文件运行需伴随附件utils_selfdefined.py文件，否则enrie无法运行。\n",
    "+ 测试全部基于服务器仅cpu环境测试\n",
    "\n",
    "输出的打分文件在路径下的csv内，请自取判断"
   ]
  },
  {
   "cell_type": "code",
   "execution_count": 1,
   "metadata": {},
   "outputs": [],
   "source": [
    "import datetime\n",
    "import re\n",
    "import time\n",
    "import pandas as pd\n",
    "import numpy as np\n",
    "import seaborn as sns\n",
    "import matplotlib.pyplot as plt\n",
    "from tqdm import tqdm\n",
    "import os\n",
    "import pickle\n",
    "sns.set_style('darkgrid')\n",
    "import joblib\n",
    "import sys\n",
    "\n",
    "import matplotlib.ticker as ticker"
   ]
  },
  {
   "cell_type": "markdown",
   "metadata": {
    "vscode": {
     "languageId": "plaintext"
    }
   },
   "source": [
    "# 1.测试样本数据展示"
   ]
  },
  {
   "cell_type": "code",
   "execution_count": 2,
   "metadata": {},
   "outputs": [
    {
     "name": "stdout",
     "output_type": "stream",
     "text": [
      "process file num is: 1558\n",
      "['20180101', '20180102', '20180103', '20180104', '20180105', '20180106', '20180107', '20180108', '20180109', '20180110']\n"
     ]
    }
   ],
   "source": [
    "data_path = '/dat/cqdata/socialmedia/eastmoney/guba/daily/'\n",
    "file_list = os.listdir(data_path)\n",
    "txt_file_list = list()\n",
    "for i in file_list:\n",
    "    if len(i)==8:\n",
    "        if int(i[:4])>=2018:\n",
    "            txt_file_list.append(i)\n",
    "print(\"process file num is:\",len(txt_file_list))\n",
    "txt_file_list.sort()\n",
    "print(txt_file_list[:10])"
   ]
  },
  {
   "cell_type": "code",
   "execution_count": 3,
   "metadata": {},
   "outputs": [],
   "source": [
    "def get_opinion_df(file_path):\n",
    "    content = list()\n",
    "    with open(file_path,\"r\",encoding=\"utf-8\") as f:\n",
    "        for lines in f.readlines():\n",
    "            content.append(lines[:-1].split('|'))\n",
    "    sentense = list()\n",
    "    original_content = list()\n",
    "    for i in content:\n",
    "        if len(i)==6:\n",
    "            sentense.append(i[-1])\n",
    "            original_content.append(i)\n",
    "        if len(i)>6:\n",
    "            concat_sen = ''\n",
    "            for j in i[5:]:\n",
    "                concat_sen = concat_sen+ str(j)\n",
    "            sentense.append(j)\n",
    "            original_content.append(i)\n",
    "\n",
    "    last_change = list()\n",
    "    build_day = list()\n",
    "    up_opinion = list()\n",
    "    comments_num = list()\n",
    "    stock_code = list()\n",
    "    user_id = list()\n",
    "    for i in original_content:\n",
    "        try:\n",
    "            last_change.append(i[0])\n",
    "            build_day.append(i[1])\n",
    "            up_opinion.append(i[2])\n",
    "            comments_num.append(i[3])\n",
    "            stock_code.append((i[4].split(','))[0])\n",
    "            user_id.append((i[4].split(','))[1])\n",
    "        except:\n",
    "            sentense.pop(original_content.index(i))\n",
    "\n",
    "    pos_sentense_day = dict()\n",
    "    pos_sentense_day['last_change'] = last_change\n",
    "    pos_sentense_day['stock_code'] = stock_code\n",
    "    pos_sentense_day['sentense'] = sentense\n",
    "    return pd.DataFrame(pos_sentense_day)"
   ]
  },
  {
   "cell_type": "code",
   "execution_count": 4,
   "metadata": {},
   "outputs": [
    {
     "data": {
      "text/html": [
       "<div>\n",
       "<style scoped>\n",
       "    .dataframe tbody tr th:only-of-type {\n",
       "        vertical-align: middle;\n",
       "    }\n",
       "\n",
       "    .dataframe tbody tr th {\n",
       "        vertical-align: top;\n",
       "    }\n",
       "\n",
       "    .dataframe thead th {\n",
       "        text-align: right;\n",
       "    }\n",
       "</style>\n",
       "<table border=\"1\" class=\"dataframe\">\n",
       "  <thead>\n",
       "    <tr style=\"text-align: right;\">\n",
       "      <th></th>\n",
       "      <th>last_change</th>\n",
       "      <th>stock_code</th>\n",
       "      <th>sentense</th>\n",
       "    </tr>\n",
       "  </thead>\n",
       "  <tbody>\n",
       "    <tr>\n",
       "      <th>0</th>\n",
       "      <td>20180406 23:52</td>\n",
       "      <td>600000</td>\n",
       "      <td>浦发为什么这么烂？</td>\n",
       "    </tr>\n",
       "    <tr>\n",
       "      <th>1</th>\n",
       "      <td>20180406 23:40</td>\n",
       "      <td>600000</td>\n",
       "      <td>反盗版</td>\n",
       "    </tr>\n",
       "    <tr>\n",
       "      <th>2</th>\n",
       "      <td>20180406 23:29</td>\n",
       "      <td>600000</td>\n",
       "      <td>最近十年搬起石头砸自己的脚”的有: 美国、日本</td>\n",
       "    </tr>\n",
       "    <tr>\n",
       "      <th>3</th>\n",
       "      <td>20180406 23:21</td>\n",
       "      <td>600000</td>\n",
       "      <td>88见，坐等数票子～</td>\n",
       "    </tr>\n",
       "    <tr>\n",
       "      <th>4</th>\n",
       "      <td>20180406 23:17</td>\n",
       "      <td>600000</td>\n",
       "      <td>请问这样的股市正常吗？</td>\n",
       "    </tr>\n",
       "  </tbody>\n",
       "</table>\n",
       "</div>"
      ],
      "text/plain": [
       "      last_change stock_code                 sentense\n",
       "0  20180406 23:52     600000                浦发为什么这么烂？\n",
       "1  20180406 23:40     600000                      反盗版\n",
       "2  20180406 23:29     600000  最近十年搬起石头砸自己的脚”的有: 美国、日本\n",
       "3  20180406 23:21     600000               88见，坐等数票子～\n",
       "4  20180406 23:17     600000              请问这样的股市正常吗？"
      ]
     },
     "execution_count": 4,
     "metadata": {},
     "output_type": "execute_result"
    }
   ],
   "source": [
    "## 选择这一天的原因是\n",
    "## 1.随机想了一天\n",
    "## 2.这一天是交易日，舆情数据充足\n",
    "target_file = '20180406'\n",
    "opinion_df = get_opinion_df(data_path+target_file)\n",
    "opinion_df.to_csv('/home/cqintern08/AbsoluteX_intern/Absolute_Alpha/motion_score_library_test/opinion_df.csv',\n",
    "                  index=False,\n",
    "                  encoding='utf_8_sig')\n",
    "opinion_df.head()"
   ]
  },
  {
   "cell_type": "markdown",
   "metadata": {
    "vscode": {
     "languageId": "plaintext"
    }
   },
   "source": [
    "# 2.library的安装与展示\n",
    "\n",
    "其中2.2 & 2.5 来自网站 paper with code"
   ]
  },
  {
   "cell_type": "markdown",
   "metadata": {},
   "source": [
    "## 2.1 cemotion\n",
    "+ 地址：https://github.com/Cyberbolt/Cemotion\n",
    "+ 最近一次更新：14 months ago\n",
    "+ 语言要求：python3\n",
    "+ 安装：pip install cemotion\n",
    "+ return：score in [0,1]"
   ]
  },
  {
   "cell_type": "code",
   "execution_count": 5,
   "metadata": {},
   "outputs": [
    {
     "name": "stdout",
     "output_type": "stream",
     "text": [
      "[['内饰蛮年轻的，而且看上去质感都蛮好，貌似本田所有车都有点相似，满高档的！', 0.999979], ['总而言之，是一家不会再去的店。', 0.064269]]\n"
     ]
    }
   ],
   "source": [
    "#使用列表进行批量分析\n",
    "from cemotion import Cemotion\n",
    "\n",
    "list_text = ['内饰蛮年轻的，而且看上去质感都蛮好，貌似本田所有车都有点相似，满高档的！',\n",
    "'总而言之，是一家不会再去的店。']\n",
    "\n",
    "c = Cemotion()\n",
    "print(c.predict(list_text))"
   ]
  },
  {
   "cell_type": "markdown",
   "metadata": {},
   "source": [
    "## 2.2 transformers\n",
    "+ 地址：https://github.com/huggingface/transformers\n",
    "+ 最近一次更新：6 days ago\n",
    "+ 语言要求：Python 3.6+\n",
    "+ 安装：pip install transformers\n",
    "+ return：{'label': 'POSITIVE', 'score': 0.9996980428695679}这里的答案“正面” (positive) 具有 99 的置信度。"
   ]
  },
  {
   "cell_type": "code",
   "execution_count": 6,
   "metadata": {},
   "outputs": [
    {
     "name": "stderr",
     "output_type": "stream",
     "text": [
      "No model was supplied, defaulted to distilbert-base-uncased-finetuned-sst-2-english (https://huggingface.co/distilbert-base-uncased-finetuned-sst-2-english)\n"
     ]
    },
    {
     "data": {
      "text/plain": [
       "[{'label': 'NEGATIVE', 'score': 0.6222265362739563},\n",
       " {'label': 'NEGATIVE', 'score': 0.9170925617218018}]"
      ]
     },
     "execution_count": 6,
     "metadata": {},
     "output_type": "execute_result"
    }
   ],
   "source": [
    "from transformers import pipeline\n",
    "classifier = pipeline('sentiment-analysis')\n",
    "classifier(['内饰蛮年轻的，而且看上去质感都蛮好，貌似本田所有车都有点相似，满高档的！',\n",
    "'总而言之，是一家不会再去的店。'])"
   ]
  },
  {
   "cell_type": "markdown",
   "metadata": {},
   "source": [
    "## 2.3 Jiagu\n",
    "+ 地址：https://github.com/ownthink/Jiagu\n",
    "+ 最近一次更新：2 years ago\n",
    "+ 语言要求：Python3\n",
    "+ 安装：pip install -U jiagu\n",
    "+ return：('negative', 0.9957030885091285)"
   ]
  },
  {
   "cell_type": "code",
   "execution_count": 7,
   "metadata": {},
   "outputs": [
    {
     "name": "stdout",
     "output_type": "stream",
     "text": [
      "('negative', 0.934012968300321)\n",
      "('negative', 0.9840209818894707)\n"
     ]
    }
   ],
   "source": [
    "import jiagu\n",
    "print(jiagu.sentiment('内饰蛮年轻的，而且看上去质感都蛮好，貌似本田所有车都有点相似，满高档的！'))\n",
    "print(jiagu.sentiment('总而言之，是一家不会再去的店。'))"
   ]
  },
  {
   "cell_type": "markdown",
   "metadata": {},
   "source": [
    "## 2.4 cnsenti\n",
    "+ 地址：https://github.com/hiDaDeng/cnsenti\n",
    "+ 最近一次更新：11 months ago\n",
    "+ 语言要求：Python3\n",
    "+ 安装：pip install cnsenti\n",
    "+ return：{'words': 10, 'sentences': 1, 'pos': 0, 'neg': 1}"
   ]
  },
  {
   "cell_type": "code",
   "execution_count": 8,
   "metadata": {},
   "outputs": [
    {
     "name": "stdout",
     "output_type": "stream",
     "text": [
      "{'words': 24, 'sentences': 1, 'pos': 0, 'neg': 0}\n",
      "{'words': 10, 'sentences': 1, 'pos': 0, 'neg': 1}\n"
     ]
    }
   ],
   "source": [
    "from cnsenti import Sentiment\n",
    "\n",
    "senti = Sentiment()\n",
    "print(senti.sentiment_count('内饰蛮年轻的，而且看上去质感都蛮好，貌似本田所有车都有点相似，满高档的！'))\n",
    "print(senti.sentiment_count('总而言之，是一家不会再去的店。'))"
   ]
  },
  {
   "cell_type": "markdown",
   "metadata": {},
   "source": [
    "## 2.5 ernie\n",
    "+ 服务提供方：百度\n",
    "+ 持续更新\n",
    "+ 安装：pip install paddlepaddle & pip install --upgrade paddlenlp\n",
    "+ Ps：由于各种复现中的bug，pip过程混乱。不保证上述安装能够完成。若失败请联系笔者或在 https://aistudio.baidu.com/aistudio/projectdetail/3811233?forkThirdPart=1 网站下自行解决"
   ]
  },
  {
   "cell_type": "code",
   "execution_count": 9,
   "metadata": {},
   "outputs": [
    {
     "name": "stderr",
     "output_type": "stream",
     "text": [
      "\u001b[32m[2022-04-15 17:24:30,726] [    INFO]\u001b[0m - Already cached /home/cqintern08/.paddlenlp/models/ernie-1.0/vocab.txt\u001b[0m\n",
      "\u001b[32m[2022-04-15 17:24:30,739] [    INFO]\u001b[0m - Already cached /home/cqintern08/.paddlenlp/models/ernie-1.0/ernie_v1_chn_base.pdparams\u001b[0m\n",
      "\u001b[32m[2022-04-15 17:24:35,850] [    INFO]\u001b[0m - Weights from pretrained model not used in ErnieModel: ['cls.predictions.layer_norm.weight', 'cls.predictions.decoder_bias', 'cls.predictions.transform.bias', 'cls.predictions.transform.weight', 'cls.predictions.layer_norm.bias']\u001b[0m\n",
      "\u001b[32m[2022-04-15 17:24:36,177] [    INFO]\u001b[0m - Already cached /home/cqintern08/.paddlenlp/models/ernie-1.0/ernie_v1_chn_base.pdparams\u001b[0m\n",
      "\u001b[32m[2022-04-15 17:24:41,207] [    INFO]\u001b[0m - Weights from pretrained model not used in ErnieModel: ['cls.predictions.layer_norm.weight', 'cls.predictions.decoder_bias', 'cls.predictions.transform.bias', 'cls.predictions.transform.weight', 'cls.predictions.layer_norm.bias']\u001b[0m\n",
      "\u001b[32m[2022-04-15 17:24:41,480] [    INFO]\u001b[0m - Already cached /home/cqintern08/.paddlenlp/models/ernie-1.0/ernie_v1_chn_base.pdparams\u001b[0m\n"
     ]
    },
    {
     "name": "stdout",
     "output_type": "stream",
     "text": [
      "Data: {'text': '这个宾馆比较陈旧了，特价的房间也很一般。总体来说一般'} \t Lable: positive\n",
      "Data: {'text': '怀着十分激动的心情放映，可是看着看着发现，在放映完毕后，出现一集米老鼠的动画片'} \t Lable: positive\n",
      "Data: {'text': '作为老的四星酒店，房间依然很整洁，相当不错。机场接机服务很好，可以在车上办理入住手续，节省时间。'} \t Lable: positive\n",
      "['positive', 'positive', 'positive']\n"
     ]
    }
   ],
   "source": [
    "import paddlenlp as ppnlp\n",
    "from paddlenlp.datasets import load_dataset\n",
    "from utils_selfdefined import predict\n",
    "\n",
    "train_ds, dev_ds, test_ds = load_dataset(\n",
    "    \"chnsenticorp\", splits=[\"train\", \"dev\", \"test\"])\n",
    "\n",
    "MODEL_NAME = \"ernie-1.0\"\n",
    "tokenizer = ppnlp.transformers.ErnieTokenizer.from_pretrained(MODEL_NAME)\n",
    "ernie_model = ppnlp.transformers.ErnieModel.from_pretrained(MODEL_NAME)\n",
    "ernie_model = ppnlp.transformers.ErnieModel.from_pretrained(MODEL_NAME)\n",
    "model = ppnlp.transformers.ErnieForSequenceClassification.from_pretrained(MODEL_NAME, num_classes=len(train_ds.label_list))\n",
    "\n",
    "batch_size = 32\n",
    "data = [\n",
    "    {\"text\":'这个宾馆比较陈旧了，特价的房间也很一般。总体来说一般'},\n",
    "    {\"text\":'怀着十分激动的心情放映，可是看着看着发现，在放映完毕后，出现一集米老鼠的动画片'},\n",
    "    {\"text\":'作为老的四星酒店，房间依然很整洁，相当不错。机场接机服务很好，可以在车上办理入住手续，节省时间。'},\n",
    "]\n",
    "label_map = {0: 'negative', 1: 'positive'}\n",
    "\n",
    "results = predict(\n",
    "    model, data, tokenizer, label_map, batch_size=batch_size)\n",
    "for idx, text in enumerate(data):\n",
    "    print('Data: {} \\t Lable: {}'.format(text, results[idx]))\n",
    "print(results)"
   ]
  },
  {
   "cell_type": "code",
   "execution_count": 10,
   "metadata": {},
   "outputs": [
    {
     "data": {
      "text/plain": [
       "array([0.61431324, 0.58914906, 0.6314239 ], dtype=float32)"
      ]
     },
     "execution_count": 10,
     "metadata": {},
     "output_type": "execute_result"
    }
   ],
   "source": [
    "##predict_score is a self defined func for output score\n",
    "from utils_selfdefined import predict_score\n",
    "predict_score(model, data, tokenizer, label_map, batch_size=batch_size)"
   ]
  },
  {
   "cell_type": "markdown",
   "metadata": {},
   "source": [
    "# 3.舆情数据测试"
   ]
  },
  {
   "cell_type": "markdown",
   "metadata": {},
   "source": [
    "## 3.1 选定文件舆情打分展示"
   ]
  },
  {
   "cell_type": "code",
   "execution_count": 11,
   "metadata": {},
   "outputs": [
    {
     "data": {
      "text/html": [
       "<div>\n",
       "<style scoped>\n",
       "    .dataframe tbody tr th:only-of-type {\n",
       "        vertical-align: middle;\n",
       "    }\n",
       "\n",
       "    .dataframe tbody tr th {\n",
       "        vertical-align: top;\n",
       "    }\n",
       "\n",
       "    .dataframe thead th {\n",
       "        text-align: right;\n",
       "    }\n",
       "</style>\n",
       "<table border=\"1\" class=\"dataframe\">\n",
       "  <thead>\n",
       "    <tr style=\"text-align: right;\">\n",
       "      <th></th>\n",
       "      <th>last_change</th>\n",
       "      <th>stock_code</th>\n",
       "      <th>sentense</th>\n",
       "      <th>score01</th>\n",
       "    </tr>\n",
       "  </thead>\n",
       "  <tbody>\n",
       "    <tr>\n",
       "      <th>0</th>\n",
       "      <td>20180406 23:52</td>\n",
       "      <td>600000</td>\n",
       "      <td>浦发为什么这么烂？</td>\n",
       "      <td>0.000478</td>\n",
       "    </tr>\n",
       "    <tr>\n",
       "      <th>1</th>\n",
       "      <td>20180406 23:40</td>\n",
       "      <td>600000</td>\n",
       "      <td>反盗版</td>\n",
       "      <td>0.090015</td>\n",
       "    </tr>\n",
       "    <tr>\n",
       "      <th>2</th>\n",
       "      <td>20180406 23:29</td>\n",
       "      <td>600000</td>\n",
       "      <td>最近十年搬起石头砸自己的脚”的有: 美国、日本</td>\n",
       "      <td>0.940348</td>\n",
       "    </tr>\n",
       "    <tr>\n",
       "      <th>3</th>\n",
       "      <td>20180406 23:21</td>\n",
       "      <td>600000</td>\n",
       "      <td>88见，坐等数票子～</td>\n",
       "      <td>0.964594</td>\n",
       "    </tr>\n",
       "    <tr>\n",
       "      <th>4</th>\n",
       "      <td>20180406 23:17</td>\n",
       "      <td>600000</td>\n",
       "      <td>请问这样的股市正常吗？</td>\n",
       "      <td>0.001732</td>\n",
       "    </tr>\n",
       "  </tbody>\n",
       "</table>\n",
       "</div>"
      ],
      "text/plain": [
       "      last_change  stock_code                 sentense   score01\n",
       "0  20180406 23:52      600000                浦发为什么这么烂？  0.000478\n",
       "1  20180406 23:40      600000                      反盗版  0.090015\n",
       "2  20180406 23:29      600000  最近十年搬起石头砸自己的脚”的有: 美国、日本  0.940348\n",
       "3  20180406 23:21      600000               88见，坐等数票子～  0.964594\n",
       "4  20180406 23:17      600000              请问这样的股市正常吗？  0.001732"
      ]
     },
     "execution_count": 11,
     "metadata": {},
     "output_type": "execute_result"
    }
   ],
   "source": [
    "### 定义函数并转换，使得5个库的标准更统一\n",
    "### score01 代表包2.1得出的情绪分数\n",
    "### time cost about 3min 54.6s for 119891 sentenses\n",
    "start_time = time.time()\n",
    "opinion_df = pd.read_csv('/home/cqintern08/AbsoluteX_intern/Absolute_Alpha/motion_score_library_test/opinion_df.csv')\n",
    "sentense01 = opinion_df.sentense.astype(str).tolist()\n",
    "result01 = c.predict(sentense01)\n",
    "score01 = np.array(result01)[:,1]\n",
    "opinion_df['score01'] = score01\n",
    "opinion_df.head()\n",
    "opinion_df.to_csv('/home/cqintern08/AbsoluteX_intern/Absolute_Alpha/motion_score_library_test/opinion_df.csv',\n",
    "                  index=False,\n",
    "                  encoding='utf_8_sig')\n",
    "opinion_df.head()"
   ]
  },
  {
   "cell_type": "code",
   "execution_count": 12,
   "metadata": {},
   "outputs": [
    {
     "name": "stdout",
     "output_type": "stream",
     "text": [
      "time cost is: 2919.618041753769\n"
     ]
    },
    {
     "data": {
      "text/html": [
       "<div>\n",
       "<style scoped>\n",
       "    .dataframe tbody tr th:only-of-type {\n",
       "        vertical-align: middle;\n",
       "    }\n",
       "\n",
       "    .dataframe tbody tr th {\n",
       "        vertical-align: top;\n",
       "    }\n",
       "\n",
       "    .dataframe thead th {\n",
       "        text-align: right;\n",
       "    }\n",
       "</style>\n",
       "<table border=\"1\" class=\"dataframe\">\n",
       "  <thead>\n",
       "    <tr style=\"text-align: right;\">\n",
       "      <th></th>\n",
       "      <th>last_change</th>\n",
       "      <th>stock_code</th>\n",
       "      <th>sentense</th>\n",
       "      <th>score01</th>\n",
       "      <th>score02</th>\n",
       "    </tr>\n",
       "  </thead>\n",
       "  <tbody>\n",
       "    <tr>\n",
       "      <th>0</th>\n",
       "      <td>20180406 23:52</td>\n",
       "      <td>600000</td>\n",
       "      <td>浦发为什么这么烂？</td>\n",
       "      <td>0.000478</td>\n",
       "      <td>0.040426</td>\n",
       "    </tr>\n",
       "    <tr>\n",
       "      <th>1</th>\n",
       "      <td>20180406 23:40</td>\n",
       "      <td>600000</td>\n",
       "      <td>反盗版</td>\n",
       "      <td>0.090015</td>\n",
       "      <td>0.795511</td>\n",
       "    </tr>\n",
       "    <tr>\n",
       "      <th>2</th>\n",
       "      <td>20180406 23:29</td>\n",
       "      <td>600000</td>\n",
       "      <td>最近十年搬起石头砸自己的脚”的有: 美国、日本</td>\n",
       "      <td>0.940348</td>\n",
       "      <td>0.327379</td>\n",
       "    </tr>\n",
       "    <tr>\n",
       "      <th>3</th>\n",
       "      <td>20180406 23:21</td>\n",
       "      <td>600000</td>\n",
       "      <td>88见，坐等数票子～</td>\n",
       "      <td>0.964594</td>\n",
       "      <td>0.664553</td>\n",
       "    </tr>\n",
       "    <tr>\n",
       "      <th>4</th>\n",
       "      <td>20180406 23:17</td>\n",
       "      <td>600000</td>\n",
       "      <td>请问这样的股市正常吗？</td>\n",
       "      <td>0.001732</td>\n",
       "      <td>0.032508</td>\n",
       "    </tr>\n",
       "  </tbody>\n",
       "</table>\n",
       "</div>"
      ],
      "text/plain": [
       "      last_change  stock_code                 sentense   score01   score02\n",
       "0  20180406 23:52      600000                浦发为什么这么烂？  0.000478  0.040426\n",
       "1  20180406 23:40      600000                      反盗版  0.090015  0.795511\n",
       "2  20180406 23:29      600000  最近十年搬起石头砸自己的脚”的有: 美国、日本  0.940348  0.327379\n",
       "3  20180406 23:21      600000               88见，坐等数票子～  0.964594  0.664553\n",
       "4  20180406 23:17      600000              请问这样的股市正常吗？  0.001732  0.032508"
      ]
     },
     "execution_count": 12,
     "metadata": {},
     "output_type": "execute_result"
    }
   ],
   "source": [
    "### time cost about 142min for 119891 sentenses\n",
    "start_time = time.time()\n",
    "opinion_df = pd.read_csv('/home/cqintern08/AbsoluteX_intern/Absolute_Alpha/motion_score_library_test/opinion_df.csv')\n",
    "result02 = classifier(sentense01)\n",
    "score02 = list()\n",
    "for i in result02:\n",
    "    if i['label']=='NEGATIVE':\n",
    "        score_temp = 1-i['score']\n",
    "    if i['label']=='POSITIVE':\n",
    "        score_temp = i['score']\n",
    "    score02.append(score_temp)\n",
    "#print(score02)\n",
    "opinion_df['score02'] = score02\n",
    "opinion_df.head()\n",
    "opinion_df.to_csv('/home/cqintern08/AbsoluteX_intern/Absolute_Alpha/motion_score_library_test/opinion_df.csv',\n",
    "                  index=False,\n",
    "                  encoding='utf_8_sig')\n",
    "print('time cost is:' ,time.time()-start_time)\n",
    "opinion_df.head()"
   ]
  },
  {
   "cell_type": "code",
   "execution_count": 13,
   "metadata": {},
   "outputs": [
    {
     "name": "stdout",
     "output_type": "stream",
     "text": [
      "time cost is: 2.643435478210449\n"
     ]
    },
    {
     "data": {
      "text/html": [
       "<div>\n",
       "<style scoped>\n",
       "    .dataframe tbody tr th:only-of-type {\n",
       "        vertical-align: middle;\n",
       "    }\n",
       "\n",
       "    .dataframe tbody tr th {\n",
       "        vertical-align: top;\n",
       "    }\n",
       "\n",
       "    .dataframe thead th {\n",
       "        text-align: right;\n",
       "    }\n",
       "</style>\n",
       "<table border=\"1\" class=\"dataframe\">\n",
       "  <thead>\n",
       "    <tr style=\"text-align: right;\">\n",
       "      <th></th>\n",
       "      <th>last_change</th>\n",
       "      <th>stock_code</th>\n",
       "      <th>sentense</th>\n",
       "      <th>score01</th>\n",
       "      <th>score02</th>\n",
       "      <th>score03</th>\n",
       "    </tr>\n",
       "  </thead>\n",
       "  <tbody>\n",
       "    <tr>\n",
       "      <th>0</th>\n",
       "      <td>20180406 23:52</td>\n",
       "      <td>600000</td>\n",
       "      <td>浦发为什么这么烂？</td>\n",
       "      <td>0.000478</td>\n",
       "      <td>0.040426</td>\n",
       "      <td>0.074351</td>\n",
       "    </tr>\n",
       "    <tr>\n",
       "      <th>1</th>\n",
       "      <td>20180406 23:40</td>\n",
       "      <td>600000</td>\n",
       "      <td>反盗版</td>\n",
       "      <td>0.090015</td>\n",
       "      <td>0.795511</td>\n",
       "      <td>0.306777</td>\n",
       "    </tr>\n",
       "    <tr>\n",
       "      <th>2</th>\n",
       "      <td>20180406 23:29</td>\n",
       "      <td>600000</td>\n",
       "      <td>最近十年搬起石头砸自己的脚”的有: 美国、日本</td>\n",
       "      <td>0.940348</td>\n",
       "      <td>0.327379</td>\n",
       "      <td>0.001223</td>\n",
       "    </tr>\n",
       "    <tr>\n",
       "      <th>3</th>\n",
       "      <td>20180406 23:21</td>\n",
       "      <td>600000</td>\n",
       "      <td>88见，坐等数票子～</td>\n",
       "      <td>0.964594</td>\n",
       "      <td>0.664553</td>\n",
       "      <td>0.120369</td>\n",
       "    </tr>\n",
       "    <tr>\n",
       "      <th>4</th>\n",
       "      <td>20180406 23:17</td>\n",
       "      <td>600000</td>\n",
       "      <td>请问这样的股市正常吗？</td>\n",
       "      <td>0.001732</td>\n",
       "      <td>0.032508</td>\n",
       "      <td>0.608623</td>\n",
       "    </tr>\n",
       "  </tbody>\n",
       "</table>\n",
       "</div>"
      ],
      "text/plain": [
       "      last_change  stock_code                 sentense   score01   score02  \\\n",
       "0  20180406 23:52      600000                浦发为什么这么烂？  0.000478  0.040426   \n",
       "1  20180406 23:40      600000                      反盗版  0.090015  0.795511   \n",
       "2  20180406 23:29      600000  最近十年搬起石头砸自己的脚”的有: 美国、日本  0.940348  0.327379   \n",
       "3  20180406 23:21      600000               88见，坐等数票子～  0.964594  0.664553   \n",
       "4  20180406 23:17      600000              请问这样的股市正常吗？  0.001732  0.032508   \n",
       "\n",
       "    score03  \n",
       "0  0.074351  \n",
       "1  0.306777  \n",
       "2  0.001223  \n",
       "3  0.120369  \n",
       "4  0.608623  "
      ]
     },
     "execution_count": 13,
     "metadata": {},
     "output_type": "execute_result"
    }
   ],
   "source": [
    "### time cost about 7.1s for 119891 sentenses\n",
    "start_time = time.time()\n",
    "opinion_df = pd.read_csv('/home/cqintern08/AbsoluteX_intern/Absolute_Alpha/motion_score_library_test/opinion_df.csv')\n",
    "def gen03(x):\n",
    "    import jiagu\n",
    "    result = jiagu.sentiment(x)\n",
    "    if result[0]=='negative':\n",
    "        return 1-result[1]\n",
    "    else:\n",
    "        return result[1]\n",
    "opinion_df['score03'] = opinion_df.sentense.astype(str).apply(lambda x: gen03(x))\n",
    "opinion_df.to_csv('/home/cqintern08/AbsoluteX_intern/Absolute_Alpha/motion_score_library_test/opinion_df.csv',\n",
    "                  index=False,\n",
    "                  encoding='utf_8_sig')\n",
    "print('time cost is:' ,time.time()-start_time)\n",
    "opinion_df.head()"
   ]
  },
  {
   "cell_type": "code",
   "execution_count": 14,
   "metadata": {},
   "outputs": [
    {
     "name": "stdout",
     "output_type": "stream",
     "text": [
      "time cost is: 163.80170392990112\n"
     ]
    },
    {
     "data": {
      "text/html": [
       "<div>\n",
       "<style scoped>\n",
       "    .dataframe tbody tr th:only-of-type {\n",
       "        vertical-align: middle;\n",
       "    }\n",
       "\n",
       "    .dataframe tbody tr th {\n",
       "        vertical-align: top;\n",
       "    }\n",
       "\n",
       "    .dataframe thead th {\n",
       "        text-align: right;\n",
       "    }\n",
       "</style>\n",
       "<table border=\"1\" class=\"dataframe\">\n",
       "  <thead>\n",
       "    <tr style=\"text-align: right;\">\n",
       "      <th></th>\n",
       "      <th>last_change</th>\n",
       "      <th>stock_code</th>\n",
       "      <th>sentense</th>\n",
       "      <th>score01</th>\n",
       "      <th>score02</th>\n",
       "      <th>score03</th>\n",
       "      <th>score04</th>\n",
       "    </tr>\n",
       "  </thead>\n",
       "  <tbody>\n",
       "    <tr>\n",
       "      <th>0</th>\n",
       "      <td>20180406 23:52</td>\n",
       "      <td>600000</td>\n",
       "      <td>浦发为什么这么烂？</td>\n",
       "      <td>0.000478</td>\n",
       "      <td>0.040426</td>\n",
       "      <td>0.074351</td>\n",
       "      <td>0.0</td>\n",
       "    </tr>\n",
       "    <tr>\n",
       "      <th>1</th>\n",
       "      <td>20180406 23:40</td>\n",
       "      <td>600000</td>\n",
       "      <td>反盗版</td>\n",
       "      <td>0.090015</td>\n",
       "      <td>0.795511</td>\n",
       "      <td>0.306777</td>\n",
       "      <td>0.5</td>\n",
       "    </tr>\n",
       "    <tr>\n",
       "      <th>2</th>\n",
       "      <td>20180406 23:29</td>\n",
       "      <td>600000</td>\n",
       "      <td>最近十年搬起石头砸自己的脚”的有: 美国、日本</td>\n",
       "      <td>0.940348</td>\n",
       "      <td>0.327379</td>\n",
       "      <td>0.001223</td>\n",
       "      <td>1.0</td>\n",
       "    </tr>\n",
       "    <tr>\n",
       "      <th>3</th>\n",
       "      <td>20180406 23:21</td>\n",
       "      <td>600000</td>\n",
       "      <td>88见，坐等数票子～</td>\n",
       "      <td>0.964594</td>\n",
       "      <td>0.664553</td>\n",
       "      <td>0.120369</td>\n",
       "      <td>0.5</td>\n",
       "    </tr>\n",
       "    <tr>\n",
       "      <th>4</th>\n",
       "      <td>20180406 23:17</td>\n",
       "      <td>600000</td>\n",
       "      <td>请问这样的股市正常吗？</td>\n",
       "      <td>0.001732</td>\n",
       "      <td>0.032508</td>\n",
       "      <td>0.608623</td>\n",
       "      <td>1.0</td>\n",
       "    </tr>\n",
       "  </tbody>\n",
       "</table>\n",
       "</div>"
      ],
      "text/plain": [
       "      last_change  stock_code                 sentense   score01   score02  \\\n",
       "0  20180406 23:52      600000                浦发为什么这么烂？  0.000478  0.040426   \n",
       "1  20180406 23:40      600000                      反盗版  0.090015  0.795511   \n",
       "2  20180406 23:29      600000  最近十年搬起石头砸自己的脚”的有: 美国、日本  0.940348  0.327379   \n",
       "3  20180406 23:21      600000               88见，坐等数票子～  0.964594  0.664553   \n",
       "4  20180406 23:17      600000              请问这样的股市正常吗？  0.001732  0.032508   \n",
       "\n",
       "    score03  score04  \n",
       "0  0.074351      0.0  \n",
       "1  0.306777      0.5  \n",
       "2  0.001223      1.0  \n",
       "3  0.120369      0.5  \n",
       "4  0.608623      1.0  "
      ]
     },
     "execution_count": 14,
     "metadata": {},
     "output_type": "execute_result"
    }
   ],
   "source": [
    "### time cost about 8min32s for 119891 sentenses\n",
    "start_time = time.time()\n",
    "opinion_df = pd.read_csv('/home/cqintern08/AbsoluteX_intern/Absolute_Alpha/motion_score_library_test/opinion_df.csv')\n",
    "def gen04(x):\n",
    "    from cnsenti import Sentiment\n",
    "    senti = Sentiment()\n",
    "    result = senti.sentiment_count(x)\n",
    "    pos_score = result['pos']\n",
    "    neg_score = result['neg']\n",
    "    if pos_score+neg_score==0:\n",
    "        return 0.5\n",
    "    return 0.5 + 0.5*(pos_score/(pos_score+neg_score)) - 0.5*(neg_score/(pos_score+neg_score))\n",
    "opinion_df['score04'] = opinion_df.sentense.astype(str).apply(lambda x: gen04(x))\n",
    "opinion_df.head()\n",
    "opinion_df.to_csv('/home/cqintern08/AbsoluteX_intern/Absolute_Alpha/motion_score_library_test/opinion_df.csv',\n",
    "                  index=False,\n",
    "                  encoding='utf_8_sig')\n",
    "print('time cost is:' ,time.time()-start_time)\n",
    "opinion_df.head()"
   ]
  },
  {
   "cell_type": "code",
   "execution_count": 15,
   "metadata": {},
   "outputs": [
    {
     "name": "stderr",
     "output_type": "stream",
     "text": [
      "\u001b[32m[2022-04-15 18:17:23,049] [    INFO]\u001b[0m - Already cached /home/cqintern08/.paddlenlp/models/ernie-1.0/vocab.txt\u001b[0m\n",
      "\u001b[32m[2022-04-15 18:17:23,060] [    INFO]\u001b[0m - Already cached /home/cqintern08/.paddlenlp/models/ernie-1.0/ernie_v1_chn_base.pdparams\u001b[0m\n",
      "\u001b[32m[2022-04-15 18:17:28,085] [    INFO]\u001b[0m - Weights from pretrained model not used in ErnieModel: ['cls.predictions.layer_norm.weight', 'cls.predictions.decoder_bias', 'cls.predictions.transform.bias', 'cls.predictions.transform.weight', 'cls.predictions.layer_norm.bias']\u001b[0m\n",
      "\u001b[32m[2022-04-15 18:17:28,384] [    INFO]\u001b[0m - Already cached /home/cqintern08/.paddlenlp/models/ernie-1.0/ernie_v1_chn_base.pdparams\u001b[0m\n",
      "\u001b[32m[2022-04-15 18:17:33,318] [    INFO]\u001b[0m - Weights from pretrained model not used in ErnieModel: ['cls.predictions.layer_norm.weight', 'cls.predictions.decoder_bias', 'cls.predictions.transform.bias', 'cls.predictions.transform.weight', 'cls.predictions.layer_norm.bias']\u001b[0m\n",
      "\u001b[32m[2022-04-15 18:17:33,643] [    INFO]\u001b[0m - Already cached /home/cqintern08/.paddlenlp/models/ernie-1.0/ernie_v1_chn_base.pdparams\u001b[0m\n"
     ]
    },
    {
     "name": "stdout",
     "output_type": "stream",
     "text": [
      "time cost is: 7045.260102748871\n"
     ]
    },
    {
     "data": {
      "text/html": [
       "<div>\n",
       "<style scoped>\n",
       "    .dataframe tbody tr th:only-of-type {\n",
       "        vertical-align: middle;\n",
       "    }\n",
       "\n",
       "    .dataframe tbody tr th {\n",
       "        vertical-align: top;\n",
       "    }\n",
       "\n",
       "    .dataframe thead th {\n",
       "        text-align: right;\n",
       "    }\n",
       "</style>\n",
       "<table border=\"1\" class=\"dataframe\">\n",
       "  <thead>\n",
       "    <tr style=\"text-align: right;\">\n",
       "      <th></th>\n",
       "      <th>last_change</th>\n",
       "      <th>stock_code</th>\n",
       "      <th>sentense</th>\n",
       "      <th>score01</th>\n",
       "      <th>score02</th>\n",
       "      <th>score03</th>\n",
       "      <th>score04</th>\n",
       "      <th>score05</th>\n",
       "    </tr>\n",
       "  </thead>\n",
       "  <tbody>\n",
       "    <tr>\n",
       "      <th>0</th>\n",
       "      <td>20180406 23:52</td>\n",
       "      <td>600000</td>\n",
       "      <td>浦发为什么这么烂？</td>\n",
       "      <td>0.000478</td>\n",
       "      <td>0.040426</td>\n",
       "      <td>0.074351</td>\n",
       "      <td>0.0</td>\n",
       "      <td>0.488139</td>\n",
       "    </tr>\n",
       "    <tr>\n",
       "      <th>1</th>\n",
       "      <td>20180406 23:40</td>\n",
       "      <td>600000</td>\n",
       "      <td>反盗版</td>\n",
       "      <td>0.090015</td>\n",
       "      <td>0.795511</td>\n",
       "      <td>0.306777</td>\n",
       "      <td>0.5</td>\n",
       "      <td>0.461863</td>\n",
       "    </tr>\n",
       "    <tr>\n",
       "      <th>2</th>\n",
       "      <td>20180406 23:29</td>\n",
       "      <td>600000</td>\n",
       "      <td>最近十年搬起石头砸自己的脚”的有: 美国、日本</td>\n",
       "      <td>0.940348</td>\n",
       "      <td>0.327379</td>\n",
       "      <td>0.001223</td>\n",
       "      <td>1.0</td>\n",
       "      <td>0.482783</td>\n",
       "    </tr>\n",
       "    <tr>\n",
       "      <th>3</th>\n",
       "      <td>20180406 23:21</td>\n",
       "      <td>600000</td>\n",
       "      <td>88见，坐等数票子～</td>\n",
       "      <td>0.964594</td>\n",
       "      <td>0.664553</td>\n",
       "      <td>0.120369</td>\n",
       "      <td>0.5</td>\n",
       "      <td>0.423272</td>\n",
       "    </tr>\n",
       "    <tr>\n",
       "      <th>4</th>\n",
       "      <td>20180406 23:17</td>\n",
       "      <td>600000</td>\n",
       "      <td>请问这样的股市正常吗？</td>\n",
       "      <td>0.001732</td>\n",
       "      <td>0.032508</td>\n",
       "      <td>0.608623</td>\n",
       "      <td>1.0</td>\n",
       "      <td>0.390910</td>\n",
       "    </tr>\n",
       "  </tbody>\n",
       "</table>\n",
       "</div>"
      ],
      "text/plain": [
       "      last_change  stock_code                 sentense   score01   score02  \\\n",
       "0  20180406 23:52      600000                浦发为什么这么烂？  0.000478  0.040426   \n",
       "1  20180406 23:40      600000                      反盗版  0.090015  0.795511   \n",
       "2  20180406 23:29      600000  最近十年搬起石头砸自己的脚”的有: 美国、日本  0.940348  0.327379   \n",
       "3  20180406 23:21      600000               88见，坐等数票子～  0.964594  0.664553   \n",
       "4  20180406 23:17      600000              请问这样的股市正常吗？  0.001732  0.032508   \n",
       "\n",
       "    score03  score04   score05  \n",
       "0  0.074351      0.0  0.488139  \n",
       "1  0.306777      0.5  0.461863  \n",
       "2  0.001223      1.0  0.482783  \n",
       "3  0.120369      0.5  0.423272  \n",
       "4  0.608623      1.0  0.390910  "
      ]
     },
     "execution_count": 15,
     "metadata": {},
     "output_type": "execute_result"
    }
   ],
   "source": [
    "### cost so much time we do it on temp.py file\n",
    "### time cost about 400min for 119891 sentenses\n",
    "start_time = time.time()\n",
    "opinion_df = pd.read_csv('/home/cqintern08/AbsoluteX_intern/Absolute_Alpha/motion_score_library_test/opinion_df.csv')\n",
    "\n",
    "from utils_selfdefined import predict_score\n",
    "import paddlenlp as ppnlp\n",
    "from paddlenlp.datasets import load_dataset\n",
    "from utils_selfdefined import predict\n",
    "\n",
    "train_ds, dev_ds, test_ds = load_dataset(\n",
    "    \"chnsenticorp\", splits=[\"train\", \"dev\", \"test\"])\n",
    "\n",
    "MODEL_NAME = \"ernie-1.0\"\n",
    "tokenizer = ppnlp.transformers.ErnieTokenizer.from_pretrained(MODEL_NAME)\n",
    "ernie_model = ppnlp.transformers.ErnieModel.from_pretrained(MODEL_NAME)\n",
    "ernie_model = ppnlp.transformers.ErnieModel.from_pretrained(MODEL_NAME)\n",
    "model = ppnlp.transformers.ErnieForSequenceClassification.from_pretrained(MODEL_NAME, num_classes=len(train_ds.label_list))\n",
    "\n",
    "def gen05(x,model,tokenizer):\n",
    "\n",
    "    batch_size = 32\n",
    "    label_map = {0: 'negative', 1: 'positive'}\n",
    "        \n",
    "    temp = predict_score(model, [{\"text\":x}], tokenizer, label_map, batch_size=batch_size)\n",
    "    return temp[0]\n",
    "\n",
    "opinion_df['score05'] = opinion_df.sentense.astype(str).apply(lambda x: gen05(x,model,tokenizer))\n",
    "opinion_df.to_csv('/home/cqintern08/AbsoluteX_intern/Absolute_Alpha/motion_score_library_test/opinion_df.csv',\n",
    "                  index=False,\n",
    "                  encoding='utf_8_sig')\n",
    "print('time cost is:' ,time.time()-start_time)\n",
    "opinion_df.head()"
   ]
  },
  {
   "cell_type": "code",
   "execution_count": null,
   "metadata": {},
   "outputs": [],
   "source": [
    "### 之前数据的读取存储出现了编码错误，该cell用于校正该错误，正常情况下无用，若是误运行，不会对文件产生影响。\n",
    "opinion_df = pd.read_csv('/home/cqintern08/AbsoluteX_intern/Absolute_Alpha/motion_score_library_test/opinion_df.csv')\n",
    "opinion_df.to_csv('/home/cqintern08/AbsoluteX_intern/Absolute_Alpha/motion_score_library_test/opinion_df.csv',\n",
    "                  index=False,\n",
    "                  encoding='utf_8_sig')"
   ]
  }
 ],
 "metadata": {
  "interpreter": {
   "hash": "916dbcbb3f70747c44a77c7bcd40155683ae19c65e1c03b4aa3499c5328201f1"
  },
  "kernelspec": {
   "display_name": "Python 3 (ipykernel)",
   "language": "python",
   "name": "python3"
  },
  "language_info": {
   "codemirror_mode": {
    "name": "ipython",
    "version": 3
   },
   "file_extension": ".py",
   "mimetype": "text/x-python",
   "name": "python",
   "nbconvert_exporter": "python",
   "pygments_lexer": "ipython3",
   "version": "3.7.11"
  },
  "varInspector": {
   "cols": {
    "lenName": 16,
    "lenType": 16,
    "lenVar": 40
   },
   "kernels_config": {
    "python": {
     "delete_cmd_postfix": "",
     "delete_cmd_prefix": "del ",
     "library": "var_list.py",
     "varRefreshCmd": "print(var_dic_list())"
    },
    "r": {
     "delete_cmd_postfix": ") ",
     "delete_cmd_prefix": "rm(",
     "library": "var_list.r",
     "varRefreshCmd": "cat(var_dic_list()) "
    }
   },
   "types_to_exclude": [
    "module",
    "function",
    "builtin_function_or_method",
    "instance",
    "_Feature"
   ],
   "window_display": false
  }
 },
 "nbformat": 4,
 "nbformat_minor": 2
}
